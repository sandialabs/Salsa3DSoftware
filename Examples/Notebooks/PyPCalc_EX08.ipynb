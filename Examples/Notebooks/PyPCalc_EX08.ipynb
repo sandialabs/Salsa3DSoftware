{
 "cells": [
  {
   "cell_type": "code",
   "execution_count": null,
   "id": "dbec7a04",
   "metadata": {
    "scrolled": true
   },
   "outputs": [],
   "source": [
    "import sys\n",
    "sys.path.insert(0,\"../../python\")\n",
    "\n",
    "jarfile = \"../../target/salsa3d-software-1.2022.5-jar-with-dependencies.jar\"\n",
    "\n",
    "\n",
    "from PyPCalc import PCalc\n",
    "PCalc.print_example08_info()\n",
    "\n",
    "# Note the output format is different from examples 1 - 6 "
   ]
  },
  {
   "cell_type": "code",
   "execution_count": null,
   "id": "2bf0045e",
   "metadata": {},
   "outputs": [],
   "source": [
    "config = PCalc.initialize_configuration(captureOutput=True, use_slbm=False, \n",
    "                                        returnObject='Points', jarFile = jarfile)\n",
    "\n",
    "props = PCalc.initialize_properties(\n",
    "    application = 'predictions',\n",
    "    workDir = '.',\n",
    "    predictors = 'bender',\n",
    "    benderModel = \"../data/AK135.geotess\",\n",
    "    inputType = 'greatcircle',\n",
    "    phase = 'P',\n",
    "    site = '10, 0, 0.2',\n",
    "    sta = \"ARCES\",\n",
    "    jdate = '2011001',\n",
    "    gcStart = \"0 0\",\n",
    "    gcDistance = 90,\n",
    "    gcAzimuth = 0,\n",
    "    gcNpoints = 19,\n",
    "    gcOnCenters = False,\n",
    "    gcPositionParameters = 'latitude longitude distance depth',\n",
    "    rayPathNodeSpacing = 10,\n",
    "    depthSpecificationMethod = 'maxDepthSpacing',\n",
    "    maxDepthSpacing = 100,\n",
    "    maxDepth = 500,\n",
    "    outputType = 'file',\n",
    "    outputFile = \"<property:workDir>/pcalc_raypaths_greatcircle_output.dat\",\n",
    "    logFile = \"<property:workDir>/pcalc_log.txt\",\n",
    "    terminalOutput = True,\n",
    "    outputHeader = True,\n",
    "    separator = 'space',\n",
    "    outputAttributes = 'ray_path')\n",
    "# Note that this creates a great circle which is not just defined along the surface of the earth, but also with\n",
    "# depth to maxDepth. This is akin to what is termed a cross-section elsewhere.\n",
    "\n",
    "\n",
    "# Creates the main pcalc object\n",
    "calc = PCalc(config = config, properties = props)"
   ]
  },
  {
   "cell_type": "code",
   "execution_count": null,
   "id": "ee9864a7",
   "metadata": {},
   "outputs": [],
   "source": [
    "# Set properties and configuration aspects can be viewed:\n",
    "print(\"PCalc properties:\")\n",
    "calc.viewSetProperties()\n",
    "print(\"++++++++++++++++++++++++++++++++++++++++++++++++++++++++++++++++++++++++++++++++++++++++++++++++++++++++++++\")\n",
    "print(\"PyPCalc Configuration:\")\n",
    "calc.viewSetConfiguration()"
   ]
  },
  {
   "cell_type": "code",
   "execution_count": null,
   "id": "8b799715",
   "metadata": {},
   "outputs": [],
   "source": [
    "calc.writePropertiesFile()\n",
    "r, rays = calc.execute()\n",
    "# The execute method calls the PCalc jar file and returns the terminal output as the first value (r)\n",
    "# and the data file that is generated as output is read in to Python as the second value (rays)\n",
    "\n",
    "print(r.stdout)"
   ]
  },
  {
   "cell_type": "code",
   "execution_count": null,
   "id": "a1dfa548",
   "metadata": {},
   "outputs": [],
   "source": [
    "import matplotlib.pyplot as plt\n",
    "iray = 251\n",
    "%matplotlib notebook\n",
    "fig = plt.figure(figsize=(5,5))\n",
    "ax = fig.add_subplot(projection='3d')\n",
    "ax.scatter(rays[iray].longitude, rays[iray].latitude, rays[iray].depth, c=rays[iray].gcDistance, s=25)\n",
    "ax.set_xlabel(\"longitude\")\n",
    "ax.set_ylabel(\"latitude\")\n",
    "ax.set_zlabel(\"depth\")\n",
    "ax.invert_zaxis()\n",
    "plt.show()"
   ]
  },
  {
   "cell_type": "code",
   "execution_count": null,
   "id": "d5e57ed8",
   "metadata": {
    "scrolled": false
   },
   "outputs": [],
   "source": [
    "import numpy as np\n",
    "import matplotlib.pyplot as plt\n",
    "iray = 251\n",
    "\n",
    "fig, ax = plt.subplots(subplot_kw={'projection': 'polar', 'theta_direction': -1})\n",
    "\n",
    "ax.plot(rays[iray].gcDistance*np.pi/180, 6371-rays[iray].depth)\n",
    "\n",
    "ax.set_theta_zero_location('N')\n",
    "ax.set_rmax(6371)\n",
    "ax.set_rticks([6371-20, 6371-35, 6371-210, 6371-410, 6371-660, 6371-2891.5, 1216])  # Less radial ticks\n",
    "ax.grid(True)\n",
    "\n",
    "ax.set_title(\"The Earth in cross-section\", va='bottom')\n",
    "plt.show()"
   ]
  },
  {
   "cell_type": "code",
   "execution_count": null,
   "id": "8b3dbfe5",
   "metadata": {},
   "outputs": [],
   "source": []
  }
 ],
 "metadata": {
  "kernelspec": {
   "display_name": "Python 3 (ipykernel)",
   "language": "python",
   "name": "python3"
  },
  "language_info": {
   "codemirror_mode": {
    "name": "ipython",
    "version": 3
   },
   "file_extension": ".py",
   "mimetype": "text/x-python",
   "name": "python",
   "nbconvert_exporter": "python",
   "pygments_lexer": "ipython3",
   "version": "3.10.4"
  }
 },
 "nbformat": 4,
 "nbformat_minor": 5
}
