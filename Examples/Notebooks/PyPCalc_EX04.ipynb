{
 "cells": [
  {
   "cell_type": "code",
   "execution_count": null,
   "id": "8a3e27f1",
   "metadata": {},
   "outputs": [],
   "source": [
    "import sys\n",
    "sys.path.insert(0,\"../../python\")\n",
    "\n",
    "jarfile = \"../../target/salsa3d-software-1.2022.5-jar-with-dependencies.jar\"\n",
    "\n",
    "from PyPCalc import PCalc\n",
    "PCalc.print_example04_info()"
   ]
  },
  {
   "cell_type": "code",
   "execution_count": null,
   "id": "4b517f0b",
   "metadata": {},
   "outputs": [],
   "source": [
    "config = PCalc.initialize_configuration(captureOutput=True, use_slbm=False, \n",
    "                                        returnObject='points', jarFile = jarfile)\n",
    "\n",
    "props = PCalc.initialize_properties(\n",
    "    maxProcessors = 4,\n",
    "    application = 'predictions',\n",
    "    workDir = '.',\n",
    "    predictors = 'bender',\n",
    "    benderModel = \"../data/AK135.geotess\",\n",
    "    inputType = 'file',\n",
    "    inputFile = '../data/example_coords.xyz',\n",
    "    batchSize = 10,\n",
    "    inputAttributes = 'origin_lat, origin_lon, origin_depth',\n",
    "    phase = 'P',\n",
    "    site = '37, 139, 0.6',\n",
    "    sta = \"SYNTH\",\n",
    "    jdate = '2011001',\n",
    "    outputType = 'file',\n",
    "    outputFile = \"<property:workDir>/pcalc_predictions_file_output.dat\",\n",
    "    logFile = \"<property:workDir>/pcalc_log.txt\",\n",
    "    terminalOutput = True,\n",
    "    outputHeader = True,\n",
    "    outputFormat = \"%8.4f\",\n",
    "    separator = 'space',\n",
    "    outputAttributes = 'travel_time')\n",
    "\n",
    "# Creates the main pcalc object\n",
    "calc = PCalc(config = config, properties = props)"
   ]
  },
  {
   "cell_type": "code",
   "execution_count": null,
   "id": "3ebbf181",
   "metadata": {},
   "outputs": [],
   "source": [
    "# Set properties and configuration aspects can be viewed:\n",
    "print(\"PCalc properties:\")\n",
    "calc.viewSetProperties()\n",
    "print(\"++++++++++++++++++++++++++++++++++++++++++++++++++++++++++++++++++++++++++++++++++++++++++++++++++++++++++++\")\n",
    "print(\"PyPCalc Configuration:\")\n",
    "calc.viewSetConfiguration()\n"
   ]
  },
  {
   "cell_type": "code",
   "execution_count": null,
   "id": "91948602",
   "metadata": {},
   "outputs": [],
   "source": [
    "# In order to actually run pcalc, first write the properties file and then execute\n",
    "calc.writePropertiesFile()\n",
    "r, data = calc.execute()\n",
    "# The execute method calls the PCalc jar file and returns the terminal output as the first value (r)\n",
    "# and the data file that is generated as output is read in to Python as the second value (data)\n",
    "\n",
    "print(r.stdout)"
   ]
  },
  {
   "cell_type": "code",
   "execution_count": null,
   "id": "1648c45c",
   "metadata": {},
   "outputs": [],
   "source": [
    "print(data[:5])"
   ]
  },
  {
   "cell_type": "code",
   "execution_count": null,
   "id": "00137c9d",
   "metadata": {},
   "outputs": [],
   "source": [
    "print(data[0].latitude, data[0].longitude, data[0].radius, data[0].attributes[0])"
   ]
  },
  {
   "cell_type": "code",
   "execution_count": null,
   "id": "f7644e67",
   "metadata": {},
   "outputs": [],
   "source": []
  }
 ],
 "metadata": {
  "kernelspec": {
   "display_name": "Python 3 (ipykernel)",
   "language": "python",
   "name": "python3"
  },
  "language_info": {
   "codemirror_mode": {
    "name": "ipython",
    "version": 3
   },
   "file_extension": ".py",
   "mimetype": "text/x-python",
   "name": "python",
   "nbconvert_exporter": "python",
   "pygments_lexer": "ipython3",
   "version": "3.10.4"
  }
 },
 "nbformat": 4,
 "nbformat_minor": 5
}
