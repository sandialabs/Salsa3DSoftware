{
 "cells": [
  {
   "cell_type": "code",
   "execution_count": null,
   "id": "ad84d031",
   "metadata": {},
   "outputs": [],
   "source": [
    "import sys\n",
    "sys.path.insert(0,\"../../python\")\n",
    "\n",
    "jarfile = \"../../target/salsa3d-software-1.2022.5-jar-with-dependencies.jar\"\n",
    "\n",
    "\n",
    "from PyPCalc import PCalc\n",
    "PCalc.print_example06_info()"
   ]
  },
  {
   "cell_type": "code",
   "execution_count": null,
   "id": "5b03de23",
   "metadata": {},
   "outputs": [],
   "source": [
    "config = PCalc.initialize_configuration(captureOutput=True, use_slbm=False, \n",
    "                                        returnObject='dataFrame', jarFile = jarfile)\n",
    "\n",
    "props = PCalc.initialize_properties(\n",
    "    application = 'predictions',\n",
    "    workDir = '.',\n",
    "    predictors = 'bender',\n",
    "    benderModel = \"../data/AK135.geotess\",\n",
    "    inputType = 'grid',\n",
    "    phase = 'P',\n",
    "    site = '37, 139, 0.6',\n",
    "    sta = \"SYNTH\",\n",
    "    jdate = '2011001',\n",
    "    gridRangeLat = '15 45 16',\n",
    "    gridRangeLon = '70 110 21',\n",
    "    depthSpecificationMethod = 'depthLevels',\n",
    "    depthLevels = 'top of MOHO',\n",
    "    outputType = 'file',\n",
    "    outputFile = \"<property:workDir>/pcalc_predictions_grid_output.dat\",\n",
    "    logFile = \"<property:workDir>/pcalc_log.txt\",\n",
    "    terminalOutput = True,\n",
    "    outputHeader = True,\n",
    "    separator = 'space',\n",
    "    outputAttributes = 'travel_time')\n",
    "\n",
    "# Creates the main pcalc object\n",
    "calc = PCalc(config = config, properties = props)"
   ]
  },
  {
   "cell_type": "code",
   "execution_count": null,
   "id": "87ce6176",
   "metadata": {},
   "outputs": [],
   "source": [
    "# Set properties and configuration aspects can be viewed:\n",
    "print(\"PCalc properties:\")\n",
    "calc.viewSetProperties()\n",
    "print(\"++++++++++++++++++++++++++++++++++++++++++++++++++++++++++++++++++++++++++++++++++++++++++++++++++++++++++++\")\n",
    "print(\"PyPCalc Configuration:\")\n",
    "calc.viewSetConfiguration()"
   ]
  },
  {
   "cell_type": "code",
   "execution_count": null,
   "id": "a113fa39",
   "metadata": {},
   "outputs": [],
   "source": [
    "# In order to actually run pcalc, first write the properties file and then execute\n",
    "calc.writePropertiesFile()\n",
    "r, data = calc.execute()\n",
    "# The execute method calls the PCalc jar file and returns the terminal output as the first value (r)\n",
    "# and the data file that is generated as output is read in to Python as the second value (data)\n",
    "\n",
    "print(r.stdout)"
   ]
  },
  {
   "cell_type": "code",
   "execution_count": null,
   "id": "12ae62d1",
   "metadata": {},
   "outputs": [],
   "source": [
    "data"
   ]
  },
  {
   "cell_type": "code",
   "execution_count": null,
   "id": "9ed4a210",
   "metadata": {},
   "outputs": [],
   "source": []
  }
 ],
 "metadata": {
  "kernelspec": {
   "display_name": "Python 3 (ipykernel)",
   "language": "python",
   "name": "python3"
  },
  "language_info": {
   "codemirror_mode": {
    "name": "ipython",
    "version": 3
   },
   "file_extension": ".py",
   "mimetype": "text/x-python",
   "name": "python",
   "nbconvert_exporter": "python",
   "pygments_lexer": "ipython3",
   "version": "3.10.4"
  }
 },
 "nbformat": 4,
 "nbformat_minor": 5
}
