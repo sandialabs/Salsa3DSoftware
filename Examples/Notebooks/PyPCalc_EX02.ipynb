{
 "cells": [
  {
   "cell_type": "code",
   "execution_count": null,
   "id": "c60ce11d",
   "metadata": {},
   "outputs": [],
   "source": [
    "import sys\n",
    "sys.path.insert(0, \"../../python\")\n",
    "\n",
    "\n",
    "jarfile = '../../target/salsa3d-software-1.2022.5-jar-with-dependencies.jar'\n",
    "\n",
    "import matplotlib.pyplot as plt\n",
    "import numpy as np\n",
    "\n",
    "from PyPCalc import PCalc\n",
    "PCalc.print_example02_info()"
   ]
  },
  {
   "cell_type": "code",
   "execution_count": null,
   "id": "f081092b",
   "metadata": {},
   "outputs": [],
   "source": [
    "config = PCalc.initialize_configuration(captureOutput=True, use_slbm=False, returnObject='dataFrame',\n",
    "                jarFile = jarfile)\n",
    "\n",
    "props = PCalc.initialize_properties(\n",
    "    application = 'model_query',\n",
    "    workDir = '.',\n",
    "    geotessModel=\"../data/AK135.geotess\",\n",
    "    inputType = 'greatcircle',\n",
    "    gcStart = \"0 0\",\n",
    "    gcDistance = 180,\n",
    "    gcAzimuth = 0,\n",
    "    gcSpacing = 10,\n",
    "    gcPositionParameters = 'x, y, distance, depth',\n",
    "    depthSpecificationMethod = 'maxDepthSpacing',\n",
    "    maxDepthSpacing = 100,\n",
    "    maxDepth = 'top of m660',\n",
    "    outputFile = \"<property:workDir>/pcalc_query_greatcircle_output.dat\",\n",
    "    logFile = \"<property:workDir>/pcalc_log.txt\",\n",
    "    terminalOutput = True,\n",
    "    outputHeader = True,\n",
    "    separator = 'tab',\n",
    "    outputAttributes = 'pslowness')\n",
    "\n",
    "calc = PCalc(config = config, properties = props)"
   ]
  },
  {
   "cell_type": "code",
   "execution_count": null,
   "id": "ff120d98",
   "metadata": {},
   "outputs": [],
   "source": [
    "# Set properties and configuration aspects can be viewed:\n",
    "print(\"PCalc properties:\")\n",
    "calc.viewSetProperties()\n",
    "print(\"++++++++++++++++++++++++++++++++++++++++++++++++++++++++++++++++++++++++++++++++++++++++++++++++++++++++++++\")\n",
    "print(\"PyPCalc Configuration:\")\n",
    "calc.viewSetConfiguration()\n",
    "\n"
   ]
  },
  {
   "cell_type": "code",
   "execution_count": null,
   "id": "64db4ce4",
   "metadata": {},
   "outputs": [],
   "source": [
    "# In order to actually run pcalc, first write the properties file and then execute\n",
    "calc.writePropertiesFile()\n",
    "r, data = calc.execute()\n",
    "# The execute method calls the PCalc jar file and returns the terminal output as the first value (r)\n",
    "# and the data file that is generated as output is read in to Python as the second value (data)\n",
    "\n",
    "print(r.stdout)"
   ]
  },
  {
   "cell_type": "code",
   "execution_count": null,
   "id": "0a4f5417",
   "metadata": {},
   "outputs": [],
   "source": [
    "# This time, the configuration set the returnObject to dataFrame.\n",
    "# This is a structure from the Pandas library that organizes tables nicely\n",
    "data"
   ]
  },
  {
   "cell_type": "code",
   "execution_count": null,
   "id": "86657193",
   "metadata": {},
   "outputs": [],
   "source": [
    "data.boxplot()\n",
    "plt.show()"
   ]
  },
  {
   "cell_type": "code",
   "execution_count": null,
   "id": "4c5957a5",
   "metadata": {},
   "outputs": [],
   "source": []
  }
 ],
 "metadata": {
  "kernelspec": {
   "display_name": "Python 3 (ipykernel)",
   "language": "python",
   "name": "python3"
  },
  "language_info": {
   "codemirror_mode": {
    "name": "ipython",
    "version": 3
   },
   "file_extension": ".py",
   "mimetype": "text/x-python",
   "name": "python",
   "nbconvert_exporter": "python",
   "pygments_lexer": "ipython3",
   "version": "3.10.4"
  }
 },
 "nbformat": 4,
 "nbformat_minor": 5
}
