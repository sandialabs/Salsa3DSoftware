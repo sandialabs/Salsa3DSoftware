{
 "cells": [
  {
   "cell_type": "code",
   "execution_count": 1,
   "id": "37cd67ee",
   "metadata": {},
   "outputs": [
    {
     "name": "stdout",
     "output_type": "stream",
     "text": [
      "\n",
      "Example 7 uses an oracle database of CSS3.0 schema tables to read and write data.\n",
      "This uses several properties to define the database\n",
      "inputType = 'database'\n",
      "dbInputInstance = 'jdbc:oracle:thin:@domain:port:database'\n",
      "dbInputUserName = 'username'\n",
      "dbInputPassword = 'password'\n",
      "dbInputTablePrefix = 'uebgt_'\n",
      "dbInputTableTypes = 'origin, arrival, assoc'\n",
      "dbInputSiteTable = 'uebgt_site'\n",
      "dbInputWhereClause = 'origin.orid = 48834027'\n",
      "outputType = 'database'\n",
      "dbOutputInstance = '<property: dbInputInstance>'\n",
      "dbOutputUserName = '<property: dbInputUserName>'\n",
      "dbOutputPassword = '<property: dbInputPassword>'\n",
      "dbOutputAssocTable = 'pcalc_assoc'\n",
      "dbOutputAutoTableCreation = True\n",
      "dbOutputPromptBeforeTruncate = False\n",
      "dbOutputTruncateTables = True\n",
      "\n",
      "In the manual, this also illustrates using the RSTT or SLBM velocity model:\n",
      "predictors = 'slbm'\n",
      "slbmModel = '/Users/username/pcalc_software/pdu202009DU.geotess'\n",
      "\n"
     ]
    }
   ],
   "source": [
    "import sys\n",
    "sys.path.insert(0,\"../../python\")\n",
    "\n",
    "jarfile = \"../../target/salsa3d-software-1.2022.5-jar-with-dependencies.jar\"\n",
    "\n",
    "from PyPCalc import PCalc\n",
    "PCalc.print_example07_info()\n",
    "# This example requires an oracle database and the slbm predictor geotess file"
   ]
  },
  {
   "cell_type": "code",
   "execution_count": 2,
   "id": "67391757",
   "metadata": {},
   "outputs": [],
   "source": [
    "config = PCalc.initialize_configuration(captureOutput=True, use_slbm=True, \n",
    "                                        returnObject='dataFrame', jarFile = jarfile)\n",
    "\n",
    "props = PCalc.initialize_properties(\n",
    "    application = 'predictions',\n",
    "    workDir = '.',\n",
    "    predictors = 'slbm',\n",
    "    slbmModel = \"../data/pdu202009Du.geotess\",\n",
    "    inputType = 'database',\n",
    "    dbInputInstance = 'jdbc:oracle:thin:@domain:port:database',\n",
    "    dbInputUserName = 'username',\n",
    "    dbInputPassword = 'password',\n",
    "    dbInputTablePrefix = 'prefix_',\n",
    "    dbInputTableTypes = 'origin, arrival, assoc',\n",
    "    dbInputSiteTable = 'uebgt_site',\n",
    "    dbInputWhereClause = ' origin.orid = 48834027',\n",
    "    outputType = 'database',\n",
    "    logFile = \"<property:workDir>/pcalc_log.txt\",\n",
    "    terminalOutput = True,\n",
    "    dbOutputInstance = '<property: dbInputInstance>',\n",
    "    dbOutputUserName = '<property: dbInputUserName>',\n",
    "    dbOutputPassword = '<property: dbOutputPassword>',\n",
    "    dbOutputAssocTable = 'pcalc_assoc',\n",
    "    dbOutputAutoTableCreation = True,\n",
    "    dbOutputPromptBeforeTruncate = False,\n",
    "    dbOutputTruncateTables = True\n",
    "    )\n",
    "\n",
    "# Creates the main pcalc object\n",
    "calc = PCalc(config = config, properties = props)"
   ]
  },
  {
   "cell_type": "code",
   "execution_count": 3,
   "id": "237a251d",
   "metadata": {},
   "outputs": [
    {
     "name": "stdout",
     "output_type": "stream",
     "text": [
      "PCalc properties:\n",
      "application = predictions\n",
      "workDir = .\n",
      "inputType = database\n",
      "batchSize = 1\n",
      "logFile = <property:workDir>/pcalc_log.txt\n",
      "terminalOutput = True\n",
      "separator = space\n",
      "outputHeader = True\n",
      "outputFormat = %1.4f\n",
      "predictors = slbm\n",
      "slbmModel = ../data/pdu202009Du.geotess\n",
      "dbInputInstance = jdbc:oracle:thin:@domain:port:database\n",
      "dbInputUserName = username\n",
      "dbInputPassword = password\n",
      "dbInputTablePrefix = prefix_\n",
      "dbInputTableTypes = origin, arrival, assoc\n",
      "dbInputSiteTable = uebgt_site\n",
      "dbInputWhereClause =  origin.orid = 48834027\n",
      "outputType = database\n",
      "dbOutputInstance = <property: dbInputInstance>\n",
      "dbOutputUserName = <property: dbInputUserName>\n",
      "dbOutputPassword = <property: dbOutputPassword>\n",
      "dbOutputAssocTable = pcalc_assoc\n",
      "dbOutputAutoTableCreation = True\n",
      "dbOutputPromptBeforeTruncate = False\n",
      "dbOutputTruncateTables = True\n",
      "++++++++++++++++++++++++++++++++++++++++++++++++++++++++++++++++++++++++++++++++++++++++++++++++++++++++++++\n",
      "PyPCalc Configuration:\n",
      "jarFile = ../../target/salsa3d-software-1.2022.5-jar-with-dependencies.jar\n",
      "propertiesFile = PCalc.properties\n",
      "captureOutput = True\n",
      "propertyFileWritten = False\n",
      "slbm_libdir = None\n",
      "use_slbm = True\n",
      "use_oracle = False\n",
      "ojdbc_jar = None\n",
      "returnObject = dataFrame\n",
      "executionMode = Salsa3DSoftware\n",
      "wallet = None\n",
      "memoryString = -Xmx256g\n"
     ]
    }
   ],
   "source": [
    "# Set properties and configuration aspects can be viewed:\n",
    "print(\"PCalc properties:\")\n",
    "calc.viewSetProperties()\n",
    "print(\"++++++++++++++++++++++++++++++++++++++++++++++++++++++++++++++++++++++++++++++++++++++++++++++++++++++++++++\")\n",
    "print(\"PyPCalc Configuration:\")\n",
    "calc.viewSetConfiguration()"
   ]
  },
  {
   "cell_type": "code",
   "execution_count": null,
   "id": "5ab7fd01",
   "metadata": {},
   "outputs": [],
   "source": []
  }
 ],
 "metadata": {
  "kernelspec": {
   "display_name": "Python 3 (ipykernel)",
   "language": "python",
   "name": "python3"
  },
  "language_info": {
   "codemirror_mode": {
    "name": "ipython",
    "version": 3
   },
   "file_extension": ".py",
   "mimetype": "text/x-python",
   "name": "python",
   "nbconvert_exporter": "python",
   "pygments_lexer": "ipython3",
   "version": "3.10.4"
  }
 },
 "nbformat": 4,
 "nbformat_minor": 5
}
