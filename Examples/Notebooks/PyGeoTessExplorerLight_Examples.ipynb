{
 "cells": [
  {
   "cell_type": "markdown",
   "id": "b8faf6ca",
   "metadata": {},
   "source": [
    "## Examples to run PyGeoTessExplorer"
   ]
  },
  {
   "cell_type": "code",
   "execution_count": 1,
   "id": "11e62359",
   "metadata": {},
   "outputs": [],
   "source": [
    "# Importing our library and setting the jar file link\n",
    "import sys\n",
    "sys.path.insert(0, \"../../python\")\n",
    "\n",
    "\n",
    "from PyGeoTessExplorerLight import GeoTessExplorer\n",
    "jarfile = '../../target/salsa3d-software-1.2022.5-jar-with-dependencies.jar'\n",
    "\n",
    "import matplotlib.pyplot as plt\n",
    "import numpy as np\n",
    "\n"
   ]
  },
  {
   "cell_type": "code",
   "execution_count": null,
   "id": "fa16ac6a",
   "metadata": {},
   "outputs": [],
   "source": [
    "!pwd"
   ]
  },
  {
   "cell_type": "code",
   "execution_count": null,
   "id": "9c41f3d1",
   "metadata": {
    "scrolled": true
   },
   "outputs": [],
   "source": [
    "# Run help function\n",
    "gte = GeoTessExplorer()\n",
    "gte.config['jarFile'] = jarfile\n",
    "result, data = gte.execute()\n",
    "print(result.stdout)"
   ]
  },
  {
   "cell_type": "code",
   "execution_count": null,
   "id": "3c295a94",
   "metadata": {},
   "outputs": [],
   "source": [
    "# Run help on a function\n",
    "gte = GeoTessExplorer()\n",
    "gte.config['jarFile'] = jarfile\n",
    "gte.config['function'] = 'sliceDistAz'\n",
    "gte.config['mode'] = 'help'\n",
    "result, data = gte.execute()\n",
    "print(result.stdout)"
   ]
  },
  {
   "cell_type": "code",
   "execution_count": null,
   "id": "911d0874",
   "metadata": {},
   "outputs": [],
   "source": [
    "gte = GeoTessExplorer()\n",
    "gte.config['jarFile'] = jarfile\n",
    "gte.setFunction(\"version\")\n",
    "result, data = gte.execute()\n",
    "print(result.stdout)"
   ]
  },
  {
   "cell_type": "code",
   "execution_count": null,
   "id": "2d0ff001",
   "metadata": {
    "scrolled": true
   },
   "outputs": [],
   "source": [
    "gte = GeoTessExplorer()\n",
    "gte.config['jarFile'] = jarfile\n",
    "gte.setFunction(\"toString\")\n",
    "result, data = gte.execute()\n",
    "print(result.stdout)\n"
   ]
  },
  {
   "cell_type": "code",
   "execution_count": null,
   "id": "b67debc5",
   "metadata": {
    "scrolled": true
   },
   "outputs": [],
   "source": [
    "gte = GeoTessExplorer()\n",
    "gte.config['jarFile'] = jarfile\n",
    "gte.setFunction(\"toString\")\n",
    "gte.config['modelFile'] = \"../data/AK135.geotess\"\n",
    "result, data = gte.execute()\n",
    "print(result.stdout)\n"
   ]
  },
  {
   "cell_type": "code",
   "execution_count": null,
   "id": "38c3729d",
   "metadata": {},
   "outputs": [],
   "source": [
    "gte = GeoTessExplorer()\n",
    "gte.config['jarFile'] = jarfile\n",
    "gte.setFunction(\"updateModelDescription\")\n",
    "gte.config['modelFile'] = \"../data/AK135.geotess\"\n",
    "result, data = gte.execute()\n",
    "print(result.stdout)\n"
   ]
  },
  {
   "cell_type": "code",
   "execution_count": null,
   "id": "94b45b5d",
   "metadata": {
    "scrolled": true
   },
   "outputs": [],
   "source": [
    "gte = GeoTessExplorer()\n",
    "gte.config['jarFile'] = jarfile\n",
    "gte.setFunction(\"updateModelDescription\")\n",
    "gte.config['modelFile'] = \"../data/AK135.geotess\"\n",
    "gte.config['newModelFile'] = 'test2.geotess'\n",
    "gte.config['updatedDescription'] = \"../data/PREM.geotess\"\n",
    "result, data = gte.execute()\n",
    "print(result.stdout)"
   ]
  },
  {
   "cell_type": "code",
   "execution_count": null,
   "id": "efff7848",
   "metadata": {
    "scrolled": true
   },
   "outputs": [],
   "source": [
    "config = GeoTessExplorer.initialize_configuration(jarFile = jarfile, \n",
    "                                                  function=\"statistics\", \n",
    "                                                  modelFile = '../data/AK135.geotess')\n",
    "gte = GeoTessExplorer(config = config)\n",
    "result, stats = gte.execute()\n",
    "stats"
   ]
  },
  {
   "cell_type": "code",
   "execution_count": null,
   "id": "a9a755a9",
   "metadata": {},
   "outputs": [],
   "source": [
    "config = GeoTessExplorer.initialize_configuration(jarFile = jarfile, \n",
    "                                                  function=\"getClassName\", \n",
    "                                                  modelFile = '../data/AK135.geotess')\n",
    "gte = GeoTessExplorer(config = config)\n",
    "result, data = gte.execute()\n",
    "print(result.stdout)"
   ]
  },
  {
   "cell_type": "code",
   "execution_count": null,
   "id": "e5bb44f8",
   "metadata": {},
   "outputs": [],
   "source": [
    "config = GeoTessExplorer.initialize_configuration(jarFile = jarfile, \n",
    "                                                  function=\"equal\", \n",
    "                                                  modelFile = '../data/AK135.geotess',\n",
    "                                                  secondModel = 'test2.geotess')\n",
    "gte = GeoTessExplorer(config = config)\n",
    "result, data = gte.execute()\n",
    "print(result.stdout)\n",
    "print(data)"
   ]
  },
  {
   "cell_type": "code",
   "execution_count": null,
   "id": "2aa013ba",
   "metadata": {},
   "outputs": [],
   "source": [
    "config = GeoTessExplorer.initialize_configuration(jarFile = jarfile, \n",
    "                                                  function=\"extractGrid\", \n",
    "                                                  modelFile = '../data/AK135.geotess',\n",
    "                                                  gridOutputFile='tmp1.gmt', gridLayTess=0)\n",
    "gte = GeoTessExplorer(config = config)\n",
    "result, data = gte.execute()\n",
    "print(result.stdout)"
   ]
  },
  {
   "cell_type": "code",
   "execution_count": null,
   "id": "5e8b0c2b",
   "metadata": {},
   "outputs": [],
   "source": [
    "print(data)\n",
    "!ls -lh tmp1.gmt"
   ]
  },
  {
   "cell_type": "code",
   "execution_count": null,
   "id": "cecdd3c6",
   "metadata": {},
   "outputs": [],
   "source": [
    "# Note that this exists as a static method so:\n",
    "griddata = GeoTessExplorer.readGridGMT(result.stdout,  # This is the string that is printed to standard out \n",
    "                                       writeFile = False,  # These provide options to write to disk.\n",
    "                                       outputFileName = 'GeoTessExtractGrid.gmt')\n",
    "print(griddata)"
   ]
  },
  {
   "cell_type": "code",
   "execution_count": null,
   "id": "9c618a61",
   "metadata": {},
   "outputs": [],
   "source": [
    "config = GeoTessExplorer.initialize_configuration(jarFile = jarfile, \n",
    "                                                  function=\"resample\", \n",
    "                                                  modelFile = '../data/AK135.geotess',\n",
    "                                                  newGrid = '../data/myfile.gtg',\n",
    "                                                  newModelFile = 'test2.geotess'\n",
    "                                                  )\n",
    "gte = GeoTessExplorer(config = config)\n",
    "result, data = gte.execute()\n",
    "print(result.stdout)"
   ]
  },
  {
   "cell_type": "code",
   "execution_count": null,
   "id": "80364cf5",
   "metadata": {},
   "outputs": [],
   "source": [
    "config = GeoTessExplorer.initialize_configuration(jarFile = jarfile, \n",
    "                                                  function=\"extractActiveNodes\", \n",
    "                                                  modelFile = '../data/AK135.geotess',\n",
    "                                                  attributeIndices = [0, 1, 2],\n",
    "                                                  reciprocal=True\n",
    "                                                  )\n",
    "gte = GeoTessExplorer(config = config)\n",
    "result, data = gte.execute()\n"
   ]
  },
  {
   "cell_type": "code",
   "execution_count": null,
   "id": "53c90a51",
   "metadata": {},
   "outputs": [],
   "source": [
    "\n",
    "GeoTessExplorer.writeExtractNodes(data, 'ean4.asc', mode='3D')\n",
    "!ls -lh ean4.asc\n"
   ]
  },
  {
   "cell_type": "code",
   "execution_count": null,
   "id": "f0a5449b",
   "metadata": {},
   "outputs": [],
   "source": [
    "config = GeoTessExplorer.initialize_configuration(jarFile = jarfile, \n",
    "                                                  function=\"replaceAttributeValues\",\n",
    "                                                  modelFile = \"../data/AK135.geotess\",\n",
    "                                                  newAttributeValuesFile = \"ean4.asc\",\n",
    "                                                  newModelFile = \"test3.geotess\"\n",
    "                                                  )\n",
    "gte = GeoTessExplorer(config = config)\n",
    "result, d = gte.execute()\n",
    "print(result.stdout)\n",
    "print(result.stderr)"
   ]
  },
  {
   "cell_type": "code",
   "execution_count": null,
   "id": "7d3c4ba4",
   "metadata": {
    "scrolled": true
   },
   "outputs": [],
   "source": [
    "config = GeoTessExplorer.initialize_configuration(jarFile = jarfile, \n",
    "                                                  function=\"renameLayer\",\n",
    "                                                  modelFile='../data/AK135.geotess',\n",
    "                                                  newModelFile=\"test2.geotess\",\n",
    "                                                  oldLayerName = 8,\n",
    "                                                  newLayerName = \"SKY\"\n",
    "                                                  )\n",
    "gte = GeoTessExplorer(config = config)\n",
    "result, data = gte.execute()\n",
    "print(result.stdout)\n",
    "print(result.stderr)\n",
    "\n",
    "gte = GeoTessExplorer()\n",
    "gte.config['jarFile'] = jarfile\n",
    "gte.setFunction(\"toString\")\n",
    "gte.config['modelFile'] = \"test2.geotess\"\n",
    "result, data = gte.execute()\n",
    "print(result.stdout)"
   ]
  },
  {
   "cell_type": "code",
   "execution_count": null,
   "id": "1af6ab9e",
   "metadata": {},
   "outputs": [],
   "source": [
    "\n",
    "config = GeoTessExplorer.initialize_configuration(jarFile = jarfile, \n",
    "                                                  function=\"reformat\",\n",
    "                                                  modelFile='../data/AK135.geotess',\n",
    "                                                  newModelFile=\"test2.geotess\"\n",
    "                                                  )\n",
    "gte = GeoTessExplorer(config = config)\n",
    "result, data = gte.execute()\n",
    "print(result.stdout)"
   ]
  },
  {
   "cell_type": "code",
   "execution_count": null,
   "id": "e8f896b1",
   "metadata": {},
   "outputs": [],
   "source": [
    "\n",
    "config = GeoTessExplorer.initialize_configuration(jarFile = jarfile, \n",
    "                                                  function=\"getValues\",\n",
    "                                                  modelFile='../data/AK135.geotess',\n",
    "                                                  pointLongitude = 123.0,\n",
    "                                                  pointLatitude = 12.0,\n",
    "                                                  pointDepth = 100, layerID = 4, attributeIndices = [0, 1, 2]\n",
    "                                                  )\n",
    "gte = GeoTessExplorer(config = config)\n",
    "result, data = gte.execute()\n",
    "print(result.stdout)\n",
    "print(data)"
   ]
  },
  {
   "cell_type": "code",
   "execution_count": null,
   "id": "a96c5125",
   "metadata": {
    "scrolled": true
   },
   "outputs": [],
   "source": [
    "\n",
    "config = GeoTessExplorer.initialize_configuration(jarFile = jarfile, \n",
    "                                                  function=\"interpolatePoint\",\n",
    "                                                  modelFile='../data/AK135.geotess',\n",
    "                                                  pointLongitude = 123.0,\n",
    "                                                  pointLatitude = 12.0,\n",
    "                                                  pointDepth = 100, layerID = 4, attributeIndices = [0, 1, 2]\n",
    "                                                  )\n",
    "gte = GeoTessExplorer(config = config)\n",
    "result, data = gte.execute()\n",
    "print(result.stdout)\n",
    "print(data)"
   ]
  },
  {
   "cell_type": "code",
   "execution_count": null,
   "id": "9abfc3ba",
   "metadata": {
    "scrolled": true
   },
   "outputs": [],
   "source": [
    "\n",
    "config = GeoTessExplorer.initialize_configuration(jarFile = jarfile, \n",
    "                                                  function=\"getValuesFile\",\n",
    "                                                  modelFile='../data/AK135.geotess',\n",
    "                                                  inputPointsFile = '../data/tmp.points',\n",
    "                                                  attributeIndices = [0, 1, 2]\n",
    "                                                  )\n",
    "gte = GeoTessExplorer(config = config)\n",
    "result, data = gte.execute()\n",
    "print(result.stdout)\n",
    "print(data)"
   ]
  },
  {
   "cell_type": "code",
   "execution_count": null,
   "id": "26d64db0",
   "metadata": {},
   "outputs": [],
   "source": [
    "\n",
    "config = GeoTessExplorer.initialize_configuration(jarFile = jarfile, \n",
    "                                                  function=\"borehole\",\n",
    "                                                  modelFile='../data/AK135.geotess',\n",
    "                                                  pointLatitude = 12.0,\n",
    "                                                  pointLongitude = 123.0,\n",
    "                                                  maximumRadialSpacing=20,\n",
    "                                                  deepestLayerID=0, shallowestLayerID=8,\n",
    "                                                  attributeIndices = [0, 1, 2]\n",
    "                                                  )\n",
    "gte = GeoTessExplorer(config = config)\n",
    "result, data = gte.execute()\n",
    "print(result.stdout)\n"
   ]
  },
  {
   "cell_type": "code",
   "execution_count": null,
   "id": "80e11c1b",
   "metadata": {},
   "outputs": [],
   "source": [
    "plt.figure(figsize=(4,8))\n",
    "plt.plot(1/data[:,1], 6371-data[:,0])\n",
    "plt.gca().invert_yaxis()\n",
    "plt.xlabel(\"Vp [km/s]\")\n",
    "plt.ylabel(\"depth [km]\")\n",
    "plt.grid()\n",
    "plt.show()"
   ]
  },
  {
   "cell_type": "code",
   "execution_count": null,
   "id": "0cbf8805",
   "metadata": {},
   "outputs": [],
   "source": [
    "\n",
    "config = GeoTessExplorer.initialize_configuration(jarFile = jarfile, \n",
    "                                                  function=\"profile\",\n",
    "                                                  modelFile='../data/AK135.geotess',\n",
    "                                                  pointLatitude = 12,\n",
    "                                                  pointLongitude = 123,\n",
    "                                                  deepestLayerID = 0, shallowestLayerID = 8, attributeIndices=[0, 1, 2]\n",
    "                                                  )\n",
    "gte = GeoTessExplorer(config = config)\n",
    "result, data = gte.execute()\n",
    "#print(result.stdout)\n",
    "#print(data)\n",
    "\n",
    "plt.figure(figsize=(4,8))\n",
    "plt.plot(1/data[:,1], 6371-data[:,0])\n",
    "plt.gca().invert_yaxis()\n",
    "plt.xlabel(\"Vp [km/s]\")\n",
    "plt.ylabel(\"depth [km]\")\n",
    "plt.grid()\n",
    "plt.show()"
   ]
  },
  {
   "cell_type": "code",
   "execution_count": null,
   "id": "91f98746",
   "metadata": {},
   "outputs": [],
   "source": [
    "\n",
    "config = GeoTessExplorer.initialize_configuration(jarFile = jarfile, \n",
    "                                                  function=\"findClosestPoint\",\n",
    "                                                  modelFile='../data/AK135.geotess',\n",
    "                                                  pointLatitude = 12,\n",
    "                                                  pointLongitude = 123,\n",
    "                                                  pointDepth = 100,\n",
    "                                                  layerID = 4,\n",
    "                                                  mode=\"execute\"\n",
    "                                                  )\n",
    "gte = GeoTessExplorer(config = config)\n",
    "result, data = gte.execute()\n",
    "print(result.stdout)\n",
    "print(data)"
   ]
  },
  {
   "cell_type": "code",
   "execution_count": null,
   "id": "a3901858",
   "metadata": {},
   "outputs": [],
   "source": [
    "\n",
    "config = GeoTessExplorer.initialize_configuration(jarFile = jarfile, \n",
    "                                                  function=\"slice\",\n",
    "                                                  modelFile='../data/AK135.geotess',\n",
    "                                                  beginLatitude = 12,\n",
    "                                                  endLatitude = 22,\n",
    "                                                  beginLongitude = 123,\n",
    "                                                  endLongitude = 133,\n",
    "                                                  nPointsSlice=100, maximumRadialSpacing=10,\n",
    "                                                  deepestLayerID=2, shallowestLayerID=4,\n",
    "                                                  outputSpatialCoords = [\"distance\", \"depth\"],\n",
    "                                                  attributeIndices = [0]\n",
    "                                                  )\n",
    "gte = GeoTessExplorer(config = config)\n",
    "result, data = gte.execute()\n",
    "print(result.stdout)\n",
    "print(data)"
   ]
  },
  {
   "cell_type": "code",
   "execution_count": null,
   "id": "2d0740c1",
   "metadata": {},
   "outputs": [],
   "source": [
    "plt.figure(figsize=(15,5))\n",
    "plt.scatter(data[:,0], data[:,1], c=data[:,2], cmap=\"RdBu\",s=30)\n",
    "plt.colorbar()\n",
    "plt.gca().invert_yaxis()\n",
    "plt.show()"
   ]
  },
  {
   "cell_type": "code",
   "execution_count": null,
   "id": "50acf507",
   "metadata": {
    "scrolled": true
   },
   "outputs": [],
   "source": [
    "config = GeoTessExplorer.initialize_configuration(jarFile = jarfile, \n",
    "                                                  function=\"sliceDistAz\",\n",
    "                                                  modelFile='../data/AK135.geotess',\n",
    "                                                  beginLatitude = 25,\n",
    "                                                  beginLongitude = -130,\n",
    "                                                  degDistanceToLastPoint=70.0,\n",
    "                                                  azimuthToLastPoint=90, nPointsSlice=100, maximumRadialSpacing=25,\n",
    "                                                  deepestLayerID=2, shallowestLayerID=8, outputSpatialCoords=[\"distance\", \"depth\"],\n",
    "                                                  attributeIndices=[0, 1, 2]\n",
    "                                                  )\n",
    "gte = GeoTessExplorer(config = config)\n",
    "result, data = gte.execute()\n",
    "print(result.stdout)\n",
    "print(data)"
   ]
  },
  {
   "cell_type": "code",
   "execution_count": null,
   "id": "df3969b0",
   "metadata": {},
   "outputs": [],
   "source": [
    "plt.figure(figsize=(15,5))\n",
    "plt.scatter(data[:,0], data[:,1], c=1/data[:,3], cmap=\"RdBu\",s=30)\n",
    "plt.colorbar()\n",
    "plt.gca().invert_yaxis()\n",
    "plt.show()"
   ]
  },
  {
   "cell_type": "code",
   "execution_count": null,
   "id": "49a365e3",
   "metadata": {
    "scrolled": true
   },
   "outputs": [],
   "source": [
    "config = GeoTessExplorer.initialize_configuration(jarFile = jarfile, \n",
    "                                                  function=\"mapValuesDepth\",\n",
    "                                                  modelFile='../data/AK135.geotess',\n",
    "                                                  beginLatitude = -90,\n",
    "                                                  beginLongitude = -180,\n",
    "                                                  endLatitude = 90,\n",
    "                                                  endLongitude = 180,\n",
    "                                                  layerID = 4,\n",
    "                                                  attributeIndices=[0, 1, 2],\n",
    "                                                  pointDepth=100, mapSpatialSamplingMode='number',\n",
    "                                                  nLongitudeMap = 100, nLatitudeMap = 100, mode='execute'\n",
    "                                                  )\n",
    "gte = GeoTessExplorer(config = config)\n",
    "result, data = gte.execute()\n",
    "print(result.stdout)\n",
    "print(data)"
   ]
  },
  {
   "cell_type": "code",
   "execution_count": null,
   "id": "87301ad0",
   "metadata": {},
   "outputs": [],
   "source": [
    "plt.figure(figsize=(15,5))\n",
    "plt.scatter(data[:,1], data[:,0], c=1/data[:,3], cmap=\"RdBu\",s=30)\n",
    "plt.colorbar()\n",
    "plt.show()\n",
    "\n"
   ]
  },
  {
   "cell_type": "code",
   "execution_count": null,
   "id": "777be791",
   "metadata": {},
   "outputs": [],
   "source": [
    "config = GeoTessExplorer.initialize_configuration(jarFile = jarfile, \n",
    "                                                  function=\"mapValuesLayer\",\n",
    "                                                  modelFile='../data/AK135.geotess',\n",
    "                                                  beginLatitude = -90,\n",
    "                                                  beginLongitude = -180,\n",
    "                                                  endLatitude = 90,\n",
    "                                                  endLongitude = 180,\n",
    "                                                  layerID = 4,\n",
    "                                                  attributeIndices=[0, 1, 2],\n",
    "                                                  fractionalRadius= 0.5, mapSpatialSamplingMode='number',\n",
    "                                                  nLongitudeMap = 100, nLatitudeMap = 100, mode='execute'\n",
    "                                                  )\n",
    "gte = GeoTessExplorer(config = config)\n",
    "result, data = gte.execute()\n",
    "print(result.stdout)\n",
    "print(data)"
   ]
  },
  {
   "cell_type": "code",
   "execution_count": null,
   "id": "cc58ef25",
   "metadata": {},
   "outputs": [],
   "source": [
    "plt.figure(figsize=(15,5))\n",
    "plt.scatter(data[:,1], data[:,0], c=1/data[:,3], cmap=\"RdBu\",s=30)\n",
    "plt.colorbar()\n",
    "plt.show()\n"
   ]
  },
  {
   "cell_type": "code",
   "execution_count": null,
   "id": "9a2beb2e",
   "metadata": {},
   "outputs": [],
   "source": [
    "config = GeoTessExplorer.initialize_configuration(jarFile = jarfile, \n",
    "                                                  function=\"mapLayerBoundary\",\n",
    "                                                  modelFile='../data/AK135.geotess',\n",
    "                                                  beginLatitude = -90,\n",
    "                                                  beginLongitude = -180,\n",
    "                                                  endLatitude = 90,\n",
    "                                                  endLongitude = 180,\n",
    "                                                  layerID = 5,\n",
    "                                                  attributeIndices=[0, 1, 2],\n",
    "                                                  fractionalRadius= 0.5, mapSpatialSamplingMode='number',\n",
    "                                                  nLongitudeMap = 100, nLatitudeMap = 100, mode='execute'\n",
    "                                                  )\n",
    "gte = GeoTessExplorer(config = config)\n",
    "result, data = gte.execute()\n",
    "print(result.stdout)\n",
    "print(data)"
   ]
  },
  {
   "cell_type": "code",
   "execution_count": null,
   "id": "15c8b294",
   "metadata": {},
   "outputs": [],
   "source": [
    "plt.figure(figsize=(15,5))\n",
    "plt.scatter(data[:,1], data[:,0], c=data[:,2], cmap=\"RdBu\",s=30)\n",
    "plt.colorbar()\n",
    "plt.show()"
   ]
  },
  {
   "cell_type": "code",
   "execution_count": null,
   "id": "3dff8c84",
   "metadata": {},
   "outputs": [],
   "source": [
    "config = GeoTessExplorer.initialize_configuration(jarFile = jarfile, \n",
    "                                                  function=\"mapLayerThickness\",\n",
    "                                                  modelFile='../data/AK135.geotess',\n",
    "                                                  beginLatitude = -90,\n",
    "                                                  beginLongitude = -180,\n",
    "                                                  endLatitude = 90,\n",
    "                                                  endLongitude = 180,\n",
    "                                                  deepestLayerID=4, shallowestLayerID = 8 \n",
    "                                                  )\n",
    "gte = GeoTessExplorer(config = config)\n",
    "result, data = gte.execute()\n",
    "#print(result.stdout)\n",
    "#print(data)\n",
    "\n",
    "plt.figure(figsize=(15,5))\n",
    "plt.scatter(data[:,1], data[:,0], c=data[:,2], cmap=\"RdBu\",s=30)\n",
    "plt.colorbar(label=\"Thickness\")\n",
    "plt.show()"
   ]
  },
  {
   "cell_type": "code",
   "execution_count": null,
   "id": "53048a2f",
   "metadata": {},
   "outputs": [],
   "source": [
    "config = GeoTessExplorer.initialize_configuration(jarFile = jarfile, \n",
    "                                                  function=\"values3DBlock\",\n",
    "                                                  modelFile='../data/AK135.geotess',\n",
    "                                                  beginLatitude = -90,\n",
    "                                                  beginLongitude = -180,\n",
    "                                                  endLatitude = 90,\n",
    "                                                  endLongitude = 180,\n",
    "                                                  mapSpatialSamplingMode='spacing', attributeIndices=[0, 1,2],\n",
    "                                                  deepestLayerID=2, shallowestLayerID=5, verticalOutputMode='depth',\n",
    "                                                  maximumRadialSpacing=25, spacingLatitudeMap=1.0, spacingLongitudeMap=1.0\n",
    "                                                  )\n",
    "gte = GeoTessExplorer(config = config)\n",
    "result, data = gte.execute()\n",
    "print(result.stdout)\n",
    "print(data)\n",
    "\n"
   ]
  },
  {
   "cell_type": "code",
   "execution_count": null,
   "id": "450a548c",
   "metadata": {},
   "outputs": [],
   "source": [
    "print(data.shape)"
   ]
  },
  {
   "cell_type": "code",
   "execution_count": null,
   "id": "7a026e5c",
   "metadata": {},
   "outputs": [],
   "source": [
    "config = GeoTessExplorer.initialize_configuration(jarFile = jarfile, \n",
    "                                                  function=\"function\",\n",
    "                                                  modelFile='../data/AK135.geotess',\n",
    "                                                  attributeIndex0=0,\n",
    "                                                  secondModel=\"../data/IASP91.geotess\",\n",
    "                                                  attributeIndex1=0,\n",
    "                                                  geometryModel = '../data/AK135.geotess',\n",
    "                                                  newModelFile = 'diff_iasp_ak.geotess',\n",
    "                                                  mode=\"execute\",\n",
    "                                                  functionIndex = 2, newAttributeName=\"P_Perturbation\", newAttributeUnits=\"percent\"\n",
    "                                                 )\n",
    "gte = GeoTessExplorer(config = config)\n",
    "result, data = gte.execute()\n",
    "print(result.stdout)\n",
    "\n",
    "\n"
   ]
  },
  {
   "cell_type": "code",
   "execution_count": null,
   "id": "5c6c970b",
   "metadata": {},
   "outputs": [],
   "source": [
    "config = GeoTessExplorer.initialize_configuration(jarFile = jarfile, \n",
    "                                                  function=\"sliceDistAz\",\n",
    "                                                  modelFile='diff_iasp_ak.geotess',\n",
    "                                                  beginLatitude = 25,\n",
    "                                                  beginLongitude = -130,\n",
    "                                                  degDistanceToLastPoint=70.0,\n",
    "                                                  azimuthToLastPoint=90, nPointsSlice=100, maximumRadialSpacing=25,\n",
    "                                                  deepestLayerID=2, shallowestLayerID=8, outputSpatialCoords=[\"distance\", \"depth\"],\n",
    "                                                  attributeIndices=[0, 1, 2]\n",
    "                                                  )\n",
    "gte = GeoTessExplorer(config = config)\n",
    "result, data = gte.execute()\n",
    "#print(result.stdout)\n",
    "#print(data)\n",
    "plt.figure(figsize=(15,5))\n",
    "plt.scatter(data[:,0], data[:,1], c=data[:,3], vmin=-5, vmax=5, cmap=\"RdBu\",s=10)\n",
    "plt.colorbar()\n",
    "plt.ylim(0, 1000)\n",
    "plt.gca().invert_yaxis()\n",
    "plt.show()"
   ]
  },
  {
   "cell_type": "code",
   "execution_count": null,
   "id": "7f867a45",
   "metadata": {},
   "outputs": [],
   "source": [
    "config = GeoTessExplorer.initialize_configuration(jarFile = jarfile, \n",
    "                                                  function=\"vtkLayers\",\n",
    "                                                  modelFile='diff_iasp_ak.geotess',\n",
    "                                                  outputFileNameStub = \"test_vtk_%d.vtk\",\n",
    "                                                  layerIndices = [4, 5, 6, 7],\n",
    "                                                  attributeIndices = [0, 1, 2])\n",
    "gte = GeoTessExplorer(config = config)\n",
    "result, data = gte.execute()\n",
    "print(result.stdout)\n",
    "print(data)  "
   ]
  },
  {
   "cell_type": "code",
   "execution_count": null,
   "id": "33dfef46",
   "metadata": {},
   "outputs": [],
   "source": [
    "config = GeoTessExplorer.initialize_configuration(jarFile = jarfile, \n",
    "                                                  function=\"vtkDepths\",\n",
    "                                                  modelFile='diff_iasp_ak.geotess',\n",
    "                                                  vtkOutputFileName = \"test_vtk_depth.vtk\",\n",
    "                                                  layerID = 4, firstDepth=200, lastDepth=200, depthSpacing=25,\n",
    "                                                  attributeIndices = [0, 1, 2])\n",
    "gte = GeoTessExplorer(config = config)\n",
    "result, data = gte.execute()\n",
    "print(result.stdout)\n",
    "print(data)  "
   ]
  },
  {
   "cell_type": "code",
   "execution_count": null,
   "id": "7d0d1b79",
   "metadata": {},
   "outputs": [],
   "source": [
    "config = GeoTessExplorer.initialize_configuration(jarFile = jarfile, \n",
    "                                                  function=\"vtkDepths2\",\n",
    "                                                  modelFile='diff_iasp_ak.geotess',\n",
    "                                                  vtkOutputFileName = \"test_vtk_depth.vtk\",\n",
    "                                                  layerID = 4, depths = [200, 175, 150, 125, 100],\n",
    "                                                  attributeIndices = [0, 1, 2])\n",
    "gte = GeoTessExplorer(config = config)\n",
    "result, data = gte.execute()\n",
    "print(result.stdout)\n",
    "print(data)  "
   ]
  },
  {
   "cell_type": "code",
   "execution_count": null,
   "id": "1f3d7d1a",
   "metadata": {},
   "outputs": [],
   "source": [
    "config = GeoTessExplorer.initialize_configuration(jarFile = jarfile, \n",
    "                                                  function=\"vtkLayerThickness\",\n",
    "                                                  modelFile='diff_iasp_ak.geotess',\n",
    "                                                  vtkOutputFileName = \"test_vtk_depth.vtk\",\n",
    "                                                  deepestLayerID = 4, shallowestLayerID=8)\n",
    "gte = GeoTessExplorer(config = config)\n",
    "result, data = gte.execute()\n",
    "print(result.stdout)\n",
    "print(data)  "
   ]
  },
  {
   "cell_type": "code",
   "execution_count": null,
   "id": "19ea4764",
   "metadata": {},
   "outputs": [],
   "source": [
    "config = GeoTessExplorer.initialize_configuration(jarFile = jarfile, \n",
    "                                                  function=\"vtkLayerBoundary\",\n",
    "                                                  modelFile='diff_iasp_ak.geotess',\n",
    "                                                  vtkOutputFileName = \"test_vtk_depth.vtk\",\n",
    "                                                  )\n",
    "gte = GeoTessExplorer(config = config)\n",
    "result, data = gte.execute()\n",
    "print(result.stdout)\n",
    "print(data)  "
   ]
  },
  {
   "cell_type": "code",
   "execution_count": null,
   "id": "a333b74b",
   "metadata": {},
   "outputs": [],
   "source": [
    "config = GeoTessExplorer.initialize_configuration(jarFile = jarfile, \n",
    "                                                  function=\"vtkSlice\",\n",
    "                                                  modelFile='diff_iasp_ak.geotess',\n",
    "                                                  vtkOutputFileName = \"test_vtk_slice.vtk\",\n",
    "                                                  beginLatitude = 12,\n",
    "                                                  endLatitude = 22,\n",
    "                                                  beginLongitude = 123,\n",
    "                                                  endLongitude = 133,\n",
    "                                                  nPointsSlice=100, maximumRadialSpacing=10,\n",
    "                                                  deepestLayerID=2, shallowestLayerID=4,\n",
    "                                                  attributeIndices = [0,1,2]\n",
    "                                                  )\n",
    "gte = GeoTessExplorer(config = config)\n",
    "result, data = gte.execute()\n",
    "print(result.stdout)\n",
    "print(data) "
   ]
  },
  {
   "cell_type": "code",
   "execution_count": null,
   "id": "2bbe557a",
   "metadata": {},
   "outputs": [],
   "source": [
    "config = GeoTessExplorer.initialize_configuration(jarFile = jarfile, \n",
    "                                                  function=\"vtkSolid\",\n",
    "                                                  modelFile='diff_iasp_ak.geotess',\n",
    "                                                  vtkOutputFileName = \"test_vtk_solid.vtk\",\n",
    "                                                  maximumRadialSpacing=50,\n",
    "                                                  deepestLayerID=2, shallowestLayerID=4,\n",
    "                                                  attributeIndices = [0,1,2]\n",
    "                                                  )\n",
    "gte = GeoTessExplorer(config = config)\n",
    "result, data = gte.execute()\n",
    "print(result.stdout)\n",
    "print(data) "
   ]
  },
  {
   "cell_type": "code",
   "execution_count": null,
   "id": "27356059",
   "metadata": {},
   "outputs": [],
   "source": [
    "config = GeoTessExplorer.initialize_configuration(jarFile = jarfile, \n",
    "                                                  function=\"vtk3DBlock\",\n",
    "                                                  modelFile='diff_iasp_ak.geotess',\n",
    "                                                  vtkOutputFileName = \"test_vtk_3Dblock.vtk\",\n",
    "                                                  beginLatitude = -90,\n",
    "                                                  beginLongitude = -180,\n",
    "                                                  endLatitude = 90,\n",
    "                                                  endLongitude = 180,\n",
    "                                                  mapSpatialSamplingMode='spacing', attributeIndices=[0, 1, 2],\n",
    "                                                  deepestLayerID=2, shallowestLayerID=5, verticalOutputMode='depth',\n",
    "                                                  maximumRadialSpacing=25, spacingLatitudeMap=1.0, spacingLongitudeMap=1.0\n",
    "                                                  )\n",
    "gte = GeoTessExplorer(config = config)\n",
    "result, data = gte.execute()\n",
    "print(result.stdout)\n",
    "print(data) "
   ]
  },
  {
   "cell_type": "code",
   "execution_count": null,
   "id": "761befdc",
   "metadata": {},
   "outputs": [],
   "source": [
    "config = GeoTessExplorer.initialize_configuration(jarFile = jarfile, \n",
    "                                                  function=\"vtkPoints\",\n",
    "                                                  inputPointsFile = '../data/tmp.points',\n",
    "                                                  vtkOutputFileName = 'tmp.vtk'\n",
    "                                                  )\n",
    "gte = GeoTessExplorer(config = config)\n",
    "result, data = gte.execute()\n",
    "print(result.stdout)\n",
    "print(data) "
   ]
  },
  {
   "cell_type": "code",
   "execution_count": null,
   "id": "06915fe8",
   "metadata": {},
   "outputs": [],
   "source": [
    "config = GeoTessExplorer.initialize_configuration(jarFile = jarfile, \n",
    "                                                  function=\"vtkRobinson\",\n",
    "                                                  modelFile=\"diff_iasp_ak.geotess\",\n",
    "                                                  centerLongitude=25.0, pointDepth=100.0, attributeIndices=[0],\n",
    "                                                  layerID = 4, vtkOutputFileName = 'tmp.vtk'\n",
    "                                                  )\n",
    "gte = GeoTessExplorer(config = config)\n",
    "result, data = gte.execute()\n",
    "print(result.stdout)\n",
    "print(data) "
   ]
  },
  {
   "cell_type": "code",
   "execution_count": null,
   "id": "ec146c97",
   "metadata": {},
   "outputs": [],
   "source": [
    "config = GeoTessExplorer.initialize_configuration(jarFile = jarfile, \n",
    "                                                  function=\"vtkRobinsonLayers\",\n",
    "                                                  modelFile=\"diff_iasp_ak.geotess\",\n",
    "                                                  outputFileNameStub = 'vtk_tmp_%d.vtk',\n",
    "                                                  centerLongitude=25.0, layerIndices=[4,5,6], attributeIndices=[0]\n",
    "                                                  )\n",
    "gte = GeoTessExplorer(config = config)\n",
    "result, data = gte.execute()\n",
    "print(result.stdout)\n",
    "print(data) "
   ]
  },
  {
   "cell_type": "code",
   "execution_count": null,
   "id": "30db2ca8",
   "metadata": {},
   "outputs": [],
   "source": [
    "config = GeoTessExplorer.initialize_configuration(jarFile = jarfile, \n",
    "                                                  function=\"vtkLayerAverage\",\n",
    "                                                  modelFile='diff_iasp_ak.geotess',\n",
    "                                                  vtkOutputFileName = 'tmp.vtk',\n",
    "                                                  layerID = 6, attributeIndices=[0])\n",
    "gte = GeoTessExplorer(config = config)\n",
    "result, data = gte.execute()\n",
    "print(result.stdout)\n",
    "print(data) "
   ]
  },
  {
   "cell_type": "code",
   "execution_count": null,
   "id": "a682fb47",
   "metadata": {
    "scrolled": true
   },
   "outputs": [],
   "source": [
    "config = GeoTessExplorer.initialize_configuration(jarFile = jarfile, \n",
    "                                                  function=\"getLatitudes\",\n",
    "                                                  beginLatitude=32, endLatitude=42, \n",
    "                                                  mapSpatialSamplingMode = 'number',\n",
    "                                                  nLatitudeMap = 100)\n",
    "gte = GeoTessExplorer(config = config)\n",
    "result, latitudes = gte.execute()\n",
    "print(result.stdout)\n",
    "print(latitudes.shape)"
   ]
  },
  {
   "cell_type": "code",
   "execution_count": null,
   "id": "95f3db8f",
   "metadata": {
    "scrolled": true
   },
   "outputs": [],
   "source": [
    "config = GeoTessExplorer.initialize_configuration(jarFile = jarfile, \n",
    "                                                  function=\"getLongitudes\",\n",
    "                                                  beginLongitude=123, endLongitude=153, \n",
    "                                                  mapSpatialSamplingMode = 'number',\n",
    "                                                  nLongitudeMap = 100)\n",
    "gte = GeoTessExplorer(config = config)\n",
    "result, longitudes = gte.execute()\n",
    "print(result.stdout)\n",
    "print(longitudes.shape)"
   ]
  },
  {
   "cell_type": "code",
   "execution_count": null,
   "id": "e0c3ee73",
   "metadata": {
    "scrolled": true
   },
   "outputs": [],
   "source": [
    "config = GeoTessExplorer.initialize_configuration(jarFile = jarfile, \n",
    "                                                  function=\"getDistanceDegrees\",\n",
    "                                                  beginLongitude=123, endLongitude=153,\n",
    "                                                  beginLatitude=24, endLatitude = 32,\n",
    "                                                  nPointsSlice = 100)\n",
    "gte = GeoTessExplorer(config = config)\n",
    "result, data = gte.execute()\n",
    "print(result.stdout)\n",
    "print(data.shape)"
   ]
  },
  {
   "cell_type": "code",
   "execution_count": 7,
   "id": "9b84fbda",
   "metadata": {},
   "outputs": [
    {
     "name": "stdout",
     "output_type": "stream",
     "text": [
      "CompletedProcess(args=['java', '-cp', '../../target/salsa3d-software-1.2022.5-jar-with-dependencies.jar', 'gov.sandia.geotess.GeoTessExplorer', 'translatePolygon', '../data/southern_california.kmz', 'fileout.vtk'], returncode=0, stdout='', stderr='')\n",
      "-rw-r--r--  1 rwporri  SANDIA\\Domain Users   402B Feb 24 14:44 fileout.vtk\r\n"
     ]
    }
   ],
   "source": [
    "config = GeoTessExplorer.initialize_configuration(jarFile = jarfile, \n",
    "                                                  function=\"translatePolygon\",\n",
    "                                                  inputPolygon=\"../data/southern_california.kmz\", \n",
    "                                                  outputPolygon=\"fileout.vtk\")\n",
    "gte = GeoTessExplorer(config = config)\n",
    "result, data = gte.execute()\n",
    "print(result)\n",
    "!ls -lh fileout.vtk"
   ]
  },
  {
   "cell_type": "code",
   "execution_count": 8,
   "id": "39808a59",
   "metadata": {
    "scrolled": true
   },
   "outputs": [
    {
     "name": "stdout",
     "output_type": "stream",
     "text": [
      "Error, unable to run GeoTessExplorer.\n",
      "Run failed. See stderr\n"
     ]
    },
    {
     "data": {
      "text/plain": [
       "-1"
      ]
     },
     "execution_count": 8,
     "metadata": {},
     "output_type": "execute_result"
    }
   ],
   "source": [
    "## The following examples require GeoTess models with site terms (ie SALSA3D)\n",
    "\n",
    "config = GeoTessExplorer.initialize_configuration(jarFile = jarfile, \n",
    "                                                  function=\"extractSiteTerms\", \n",
    "                                                  modelFile=\"../data/SALSA3D_v2_PS.geotess\")\n",
    "gte = GeoTessExplorer(config = config)\n",
    "result, data = gte.execute()\n",
    "print(result.stdout)\n",
    "data"
   ]
  },
  {
   "cell_type": "code",
   "execution_count": null,
   "id": "ac3de46c",
   "metadata": {},
   "outputs": [],
   "source": [
    "data['TT_SITE_CORRECTION_P SECONDS'][0] = 42\n",
    "GeoTessExplorer.writeSiteTermsDFtoFile(data, 'tmp.txt')"
   ]
  },
  {
   "cell_type": "code",
   "execution_count": null,
   "id": "b5b90844",
   "metadata": {},
   "outputs": [],
   "source": [
    "config = GeoTessExplorer.initialize_configuration(jarFile = jarfile, \n",
    "                                                  function=\"replaceSiteTerms\", \n",
    "                                                  modelFile=\"../data/SALSA3D_v2_PS.geotess\",\n",
    "                                                 newSiteTermFile = 'tmp.txt',\n",
    "                                                 newModelFile='test.geotess')\n",
    "gte = GeoTessExplorer(config = config)\n",
    "result, data = gte.execute()\n",
    "print(result.stdout)\n",
    "data"
   ]
  },
  {
   "cell_type": "code",
   "execution_count": null,
   "id": "e4886c94",
   "metadata": {},
   "outputs": [],
   "source": [
    "config = GeoTessExplorer.initialize_configuration(jarFile = jarfile, \n",
    "                                                  function=\"extractSiteTerms\", \n",
    "                                                  modelFile=\"test.geotess\")\n",
    "gte = GeoTessExplorer(config = config)\n",
    "result, data = gte.execute()\n",
    "#print(result.stdout)\n",
    "data"
   ]
  },
  {
   "cell_type": "code",
   "execution_count": null,
   "id": "6b803a49",
   "metadata": {},
   "outputs": [],
   "source": [
    "config = GeoTessExplorer.initialize_configuration(jarFile = jarfile, \n",
    "                                                  function=\"extractPathDependentUncertaintyRSTT\", \n",
    "                                                  modelFile=\"../data/pdu202009Du.geotess\",\n",
    "                                                  RSTT_FileNameStub = \"\"\"tmp_<phase>.dat\"\"\",\n",
    "                                                  RSTT_OutputType = 'geotess'\n",
    "                                                )\n",
    "gte = GeoTessExplorer(config = config)\n",
    "result, data = gte.execute()\n",
    "print(result.stdout)\n",
    "data\n"
   ]
  },
  {
   "cell_type": "code",
   "execution_count": null,
   "id": "d119202a",
   "metadata": {
    "scrolled": true
   },
   "outputs": [],
   "source": [
    "config = GeoTessExplorer.initialize_configuration(jarFile = jarfile, \n",
    "                                                  function=\"replacePathDependentUncertaintyRSTT\", \n",
    "                                                  modelFile=\"../data/pdu202009Du.geotess\",\n",
    "                                                  RSTT_FileNameStub = \"\"\"tmp_<phase>.dat\"\"\",\n",
    "                                                  newModelFile=\"test_rstt.geotess\")\n",
    "gte = GeoTessExplorer(config = config)\n",
    "result, data = gte.execute()\n",
    "print(result.stdout)\n",
    "data\n"
   ]
  },
  {
   "cell_type": "code",
   "execution_count": null,
   "id": "f404687f",
   "metadata": {},
   "outputs": [],
   "source": []
  }
 ],
 "metadata": {
  "kernelspec": {
   "display_name": "Python 3 (ipykernel)",
   "language": "python",
   "name": "python3"
  },
  "language_info": {
   "codemirror_mode": {
    "name": "ipython",
    "version": 3
   },
   "file_extension": ".py",
   "mimetype": "text/x-python",
   "name": "python",
   "nbconvert_exporter": "python",
   "pygments_lexer": "ipython3",
   "version": "3.10.4"
  }
 },
 "nbformat": 4,
 "nbformat_minor": 5
}
