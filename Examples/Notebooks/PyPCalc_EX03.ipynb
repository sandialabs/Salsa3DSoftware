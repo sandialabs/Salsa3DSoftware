{
 "cells": [
  {
   "cell_type": "code",
   "execution_count": 2,
   "id": "87981171",
   "metadata": {},
   "outputs": [
    {
     "name": "stdout",
     "output_type": "stream",
     "text": [
      "\n",
      "Example 3 showcases the output grid functionality\n",
      "Key properties include:\n",
      "inputType = 'grid'\n",
      "gridRangeLat = '15 45 16' # sets min, max, and N latitudes\n",
      "gridRangeLon = '70 110 21' # sets min, max and N longitudes\n",
      "depthSpecificationMethod = 'depths' # see ex2 or the manual for more on depth specification\n",
      "depths = '100.0, 200.0' # Set of depths to compute the grids in lat/lon for\n",
      "\n"
     ]
    }
   ],
   "source": [
    "import sys\n",
    "sys.path.insert(0, \"../../python\")\n",
    "\n",
    "jarfile = \"../../target/salsa3d-software-1.2022.5-jar-with-dependencies.jar\"\n",
    "\n",
    "from PyPCalc import PCalc\n",
    "PCalc.print_example03_info()"
   ]
  },
  {
   "cell_type": "code",
   "execution_count": 8,
   "id": "f73e1cbb",
   "metadata": {},
   "outputs": [],
   "source": [
    "config = PCalc.initialize_configuration(captureOutput=True, use_slbm=False, returnObject='array',\n",
    "                jarFile = jarfile)\n",
    "\n",
    "props = PCalc.initialize_properties(\n",
    "    application = 'model_query',\n",
    "    workDir = '.',\n",
    "    geotessModel=\"../data/AK135.geotess\",\n",
    "    inputType = 'grid',\n",
    "    gridRangeLat = \"15 45 16\",\n",
    "    gridRangeLon = \"70 110 21\",\n",
    "    depthSpecificationMethod = 'depths',\n",
    "    depths = \"100.0, 200.0\",\n",
    "    outputType = 'file',\n",
    "    outputFile = \"<property:workDir>/pcalc_query_grid_output.dat\",\n",
    "    logFile = \"<property:workDir>/pcalc_log.txt\",\n",
    "    terminalOutput = True,\n",
    "    outputHeader = True,\n",
    "    outputFormat = \"%1.4f\",\n",
    "    separator = 'tab',\n",
    "    outputAttributes = 'pslowness')\n",
    "\n",
    "calc = PCalc(config = config, properties = props)"
   ]
  },
  {
   "cell_type": "code",
   "execution_count": 9,
   "id": "75b2bc76",
   "metadata": {},
   "outputs": [
    {
     "name": "stdout",
     "output_type": "stream",
     "text": [
      "PCalc properties:\n",
      "application = model_query\n",
      "workDir = .\n",
      "geotessModel = ../data/AK135.geotess\n",
      "inputType = grid\n",
      "batchSize = 1\n",
      "outputFile = <property:workDir>/pcalc_query_grid_output.dat\n",
      "logFile = <property:workDir>/pcalc_log.txt\n",
      "terminalOutput = True\n",
      "separator = tab\n",
      "outputAttributes = pslowness\n",
      "outputHeader = True\n",
      "depthSpecificationMethod = depths\n",
      "gridRangeLat = 15 45 16\n",
      "gridRangeLon = 70 110 21\n",
      "depths = 100.0, 200.0\n",
      "outputFormat = %1.4f\n",
      "outputType = file\n",
      "++++++++++++++++++++++++++++++++++++++++++++++++++++++++++++++++++++++++++++++++++++++++++++++++++++++++++++\n",
      "PyPCalc Configuration:\n",
      "jarFile = ../../target/salsa3d-software-1.2022.5-jar-with-dependencies.jar\n",
      "propertiesFile = PCalc.properties\n",
      "captureOutput = True\n",
      "propertyFileWritten = False\n",
      "slbm_libdir = None\n",
      "use_slbm = False\n",
      "use_oracle = False\n",
      "ojdbc_jar = None\n",
      "returnObject = array\n",
      "executionMode = Salsa3DSoftware\n",
      "wallet = None\n",
      "memoryString = -Xmx256g\n"
     ]
    }
   ],
   "source": [
    "# Set properties and configuration aspects can be viewed:\n",
    "print(\"PCalc properties:\")\n",
    "calc.viewSetProperties()\n",
    "print(\"++++++++++++++++++++++++++++++++++++++++++++++++++++++++++++++++++++++++++++++++++++++++++++++++++++++++++++\")\n",
    "print(\"PyPCalc Configuration:\")\n",
    "calc.viewSetConfiguration()\n",
    "\n"
   ]
  },
  {
   "cell_type": "code",
   "execution_count": 10,
   "id": "1ad81084",
   "metadata": {},
   "outputs": [
    {
     "name": "stdout",
     "output_type": "stream",
     "text": [
      "PCalc.1.2022.5.1 running on s1067322 started 2023-02-24 14:23:54 -0700\n",
      "\n",
      "PCalc.1.2022.5.1 running on s1067322 started 2023-02-24 14:23:54 -0700\n",
      "\n",
      "Properties:\n",
      "terminalOutput = True\n",
      "depthSpecificationMethod = depths\n",
      "propertyFile = /Users/rwporri/src/Salsa3DSoftware_Py/Salsa3DSoftware-master/Examples/Notebooks/PCalc.properties\n",
      "geotessModel = ../data/AK135.geotess\n",
      "outputType = file\n",
      "gridRangeLon = 70 110 21\n",
      "separator = tab\n",
      "gridRangeLat = 15 45 16\n",
      "outputFile = <property:workDir>/pcalc_query_grid_output.dat\n",
      "outputAttributes = pslowness\n",
      "application = model_query\n",
      "outputHeader = True\n",
      "logFile = <property:workDir>/pcalc_log.txt\n",
      "depths = 100.0, 200.0\n",
      "inputType = grid\n",
      "workDir = .\n",
      "batchSize = 1\n",
      "outputFormat = %1.4f\n",
      "\n",
      "Application = queryModel\n",
      "\n",
      "Reading GeoModel /Users/rwporri/src/Salsa3DSoftware_Py/Salsa3DSoftware-master/Examples/data/AK135.geotess\n",
      "Reading geotessModel took  3.319098 seconds\n",
      "********************************************************************************\n",
      "GeoTessModel.1.2022.5.1\n",
      "OS: MacOSX\n",
      "Input Model File : /Users/rwporri/src/Salsa3DSoftware_Py/Salsa3DSoftware-master/Examples/Notebooks/../data/AK135.geotess\n",
      "generated by GeoTessCPPExamples.PopulateModel3D 1.0.0, 2022-03-07 15:53:34.620508\n",
      "modelFileFormat : 3\n",
      "Model load time : 3.301 seconds\n",
      "Grid loaded from file *\n",
      "Model Description:\n",
      "\n",
      "AK135 slowness model\n",
      "\n",
      "<end description>\n",
      "\n",
      "EarthShape: SPHERE\n",
      "DataType: FLOAT\n",
      "\n",
      "Attributes:\n",
      "   0: PSLOWNESS (sec/km)\n",
      "   1: SSLOWNESS (sec/km)\n",
      "   2: rho (g/cc)\n",
      "\n",
      "Layers:\n",
      "  Index  TessId   Name\n",
      "    8       0     SURFACE\n",
      "    7       0     UPPER_CRUST\n",
      "    6       0     MIDDLE_CRUST\n",
      "    5       0     LOWER_CRUST\n",
      "    4       0     MOHO\n",
      "    3       0     M410\n",
      "    2       0     M660\n",
      "    1       0     CMB\n",
      "    0       0     ICB\n",
      "\n",
      "eulerRotationAngles: null\n",
      "\n",
      "Layer  connected   active     number     active    profile    profile    profile    profile    profile    profile\n",
      "Index  vertices   vertices  of points    points    npoints    constant    thin       empty     surface   surface_empty\n",
      "-----  --------  ---------  ---------  ---------  ---------  ---------  ---------  ---------  ---------  -------------\n",
      "  8      40962      40962      81924      81924      40962          0          0          0          0          0\n",
      "  7      40962      40962     163848     163848      40962          0          0          0          0          0\n",
      "  6      40962      40962     122886     122886      40962          0          0          0          0          0\n",
      "  5      40962      40962      81924      81924      40962          0          0          0          0          0\n",
      "  4      40962      40962     409620     409620      40962          0          0          0          0          0\n",
      "  3      40962      40962     245772     245772      40962          0          0          0          0          0\n",
      "  2      40962      40962    1884252    1884252      40962          0          0          0          0          0\n",
      "  1      40962      40962    1966176    1966176      40962          0          0          0          0          0\n",
      "  0      40962      40962    1024050    1024050      40962          0          0          0          0          0\n",
      "-----  --------  ---------  ---------  ---------  ---------  ---------  ---------  ---------  ---------  -------------\n",
      "Total    40962     368658    5980452    5980452     368658          0          0          0          0          0\n",
      "\n",
      "GeoTessGrid:\n",
      "gridID = 5163B56630A3A3B9FE834CA98D979722\n",
      "\n",
      "nTessellations  =       1\n",
      "nLevels         =       7\n",
      "nVertices       =   40962\n",
      "nTriangles      =  109220\n",
      "\n",
      "    Tess    Level  LevelID EdgeLength  NVertices  NTriangles    First   Last+1\n",
      "       0        0        0    64.0000         12          20        0       20\n",
      "       0        1        1    32.0000         42          80       20      100\n",
      "       0        2        2    16.0000        162         320      100      420\n",
      "       0        3        3     8.0000        642        1280      420     1700\n",
      "       0        4        4     4.0000       2562        5120     1700     6820\n",
      "       0        5        5     2.0000      10242       20480     6820    27300\n",
      "       0        6        6     1.0000      40962       81920    27300   109220\n",
      "\n",
      "********************************************************************************\n",
      "\n",
      "Sending output to /Users/rwporri/src/Salsa3DSoftware_Py/Salsa3DSoftware-master/Examples/Notebooks/pcalc_query_grid_output.dat\n",
      "PCalc processed 336 points x 2 depths =  672 queries in      0.014 sec\n",
      "\n",
      "Properties that actually got requested and returned:\n",
      "application = model_query\n",
      "applicationName = PCalc\n",
      "depthFast = true\n",
      "depthSpecificationMethod = depths\n",
      "depths = 100.0, 200.0\n",
      "earthShape = WGS84\n",
      "geotessModel = ../data/AK135.geotess\n",
      "gridPositionParameters = longitude latitude depth\n",
      "gridRangeLat = 15 45 16\n",
      "gridRangeLon = 70 110 21\n",
      "inputHeaderRow = false\n",
      "inputType = grid\n",
      "logFile = <property:workDir>/pcalc_log.txt\n",
      "logFile = ./pcalc_log.txt\n",
      "outputAttributes = pslowness\n",
      "outputFile = <property:workDir>/pcalc_query_grid_output.dat\n",
      "outputFormat = %1.4f\n",
      "outputHeader = True\n",
      "outputType = file\n",
      "overwriteExistingOutputFile = true\n",
      "parallelMode = concurrent\n",
      "propertyFile = /Users/rwporri/src/Salsa3DSoftware_Py/Salsa3DSoftware-master/Examples/Notebooks/PCalc.properties\n",
      "separator = tab\n",
      "terminalOutput = True\n",
      "yFast = true\n",
      "\n",
      "Processing complete 2023-02-24 14:23:58 -0700. Elapsed time  4.098000 seconds\n",
      "Shutting down executor service\n",
      "Closing parallel broker.\n",
      "\n"
     ]
    }
   ],
   "source": [
    "# In order to actually run pcalc, first write the properties file and then execute\n",
    "calc.writePropertiesFile()\n",
    "r, data = calc.execute()\n",
    "# The execute method calls the PCalc jar file and returns the terminal output as the first value (r)\n",
    "# and the data file that is generated as output is read in to Python as the second value (data)\n",
    "\n",
    "print(r.stdout)"
   ]
  },
  {
   "cell_type": "code",
   "execution_count": 11,
   "id": "05da47f2",
   "metadata": {},
   "outputs": [
    {
     "data": {
      "text/plain": [
       "array([[7.000e+01, 1.500e+01, 1.000e+02, 1.243e-01],\n",
       "       [7.000e+01, 1.500e+01, 2.000e+02, 1.209e-01],\n",
       "       [7.200e+01, 1.500e+01, 1.000e+02, 1.243e-01],\n",
       "       ...,\n",
       "       [1.080e+02, 4.500e+01, 2.000e+02, 1.209e-01],\n",
       "       [1.100e+02, 4.500e+01, 1.000e+02, 1.243e-01],\n",
       "       [1.100e+02, 4.500e+01, 2.000e+02, 1.209e-01]])"
      ]
     },
     "execution_count": 11,
     "metadata": {},
     "output_type": "execute_result"
    }
   ],
   "source": [
    "# This case we output an array. It's a little less nicely organized, but it is easy to send to other tools\n",
    "# like matplotlib\n",
    "data"
   ]
  },
  {
   "cell_type": "code",
   "execution_count": 12,
   "id": "29037843",
   "metadata": {},
   "outputs": [
    {
     "data": {
      "image/png": "[encoded data removed]",
      "text/plain": [
       "<Figure size 1080x504 with 2 Axes>"
      ]
     },
     "metadata": {
      "needs_background": "light"
     },
     "output_type": "display_data"
    }
   ],
   "source": [
    "import matplotlib.pyplot as plt\n",
    "import numpy as np\n",
    "\n",
    "# initialize the figure\n",
    "plt.figure(figsize=(15,7))\n",
    "\n",
    "# Just gets the 100 km depth slice\n",
    "idx = np.where(data[:,2] == 100)\n",
    "\n",
    "# Uses scatter to plot. Note that this looks a little weird because it's a postage stamp on the earth\n",
    "# and this doesn't have any geographic references\n",
    "plt.scatter(data[idx,0], data[idx,1], c=1.0/data[idx,3], cmap='seismic_r', s=200)\n",
    "plt.colorbar(label='P wavespeed')\n",
    "plt.show()"
   ]
  },
  {
   "cell_type": "code",
   "execution_count": null,
   "id": "89de1d0c",
   "metadata": {},
   "outputs": [],
   "source": []
  }
 ],
 "metadata": {
  "kernelspec": {
   "display_name": "Python 3 (ipykernel)",
   "language": "python",
   "name": "python3"
  },
  "language_info": {
   "codemirror_mode": {
    "name": "ipython",
    "version": 3
   },
   "file_extension": ".py",
   "mimetype": "text/x-python",
   "name": "python",
   "nbconvert_exporter": "python",
   "pygments_lexer": "ipython3",
   "version": "3.10.4"
  }
 },
 "nbformat": 4,
 "nbformat_minor": 5
}
